{
 "cells": [
  {
   "cell_type": "markdown",
   "metadata": {},
   "source": [
    "# The Existence and Nature of Twitter Echo Chambers"
   ]
  },
  {
   "cell_type": "markdown",
   "metadata": {},
   "source": [
    "Work in progress. Clean Twitter data to use machine learning to find political echo chambers on Twitter."
   ]
  },
  {
   "cell_type": "code",
   "execution_count": 1,
   "metadata": {
    "collapsed": false
   },
   "outputs": [
    {
     "name": "stderr",
     "output_type": "stream",
     "text": [
      "/usr/local/anaconda2/lib/python2.7/site-packages/matplotlib/font_manager.py:273: UserWarning: Matplotlib is building the font cache using fc-list. This may take a moment.\n",
      "  warnings.warn('Matplotlib is building the font cache using fc-list. This may take a moment.')\n"
     ]
    },
    {
     "data": {
      "text/plain": [
       "<module 'utils' from 'utils.pyc'>"
      ]
     },
     "execution_count": 1,
     "metadata": {},
     "output_type": "execute_result"
    }
   ],
   "source": [
    "import numpy as np\n",
    "import pandas as pd\n",
    "import json\n",
    "import re\n",
    "import utils as ut\n",
    "import datetime\n",
    "from matplotlib import pyplot as plt\n",
    "%matplotlib inline\n",
    "reload(ut)"
   ]
  },
  {
   "cell_type": "code",
   "execution_count": 7,
   "metadata": {
    "collapsed": false
   },
   "outputs": [],
   "source": [
    "filename = '/run/media/derekgm@byu.local/FAMHIST/Data/final_project/trump2.txt'\n",
    "#filename = '/run/media/derekgm@byu.local/FAMHIST/Data/final_project/maga.txt'\n",
    "#filename = '/media/derek/FAMHIST/Data/final_project/trump2.txt'\n",
    "#filename = '/media/derek/FAMHIST/Data/final_project/maga.txt'\n",
    "F = open(filename,'r')\n",
    "tweets = F.readlines()[:1500]\n",
    "F.close()"
   ]
  },
  {
   "cell_type": "code",
   "execution_count": 8,
   "metadata": {
    "collapsed": false
   },
   "outputs": [
    {
     "name": "stdout",
     "output_type": "stream",
     "text": [
      "1500\n",
      "4\n"
     ]
    }
   ],
   "source": [
    "L = []\n",
    "names = []\n",
    "D = {}\n",
    "err = 0\n",
    "print len(tweets)\n",
    "for t in tweets:\n",
    "    try:\n",
    "        text = json.loads(t)\n",
    "        mentions = re.findall(r'@\\w*',text['text'].encode('ascii','ignore'))\n",
    "        uname = text['user']['screen_name'].encode('ascii','ignore')\n",
    "        if not uname in D.keys():\n",
    "            D[uname] = []\n",
    "        if mentions is not None:\n",
    "            for m in mentions:\n",
    "                D[uname].append(m[1:])\n",
    "                names.append([uname,m[1:]])\n",
    "                L.append({\"source\":uname,\"target\":m[1:],\"value\":1}) #2**D[uname].count(m[1:])})\n",
    "    except:\n",
    "        err += 1\n",
    "print err"
   ]
  },
  {
   "cell_type": "code",
   "execution_count": 9,
   "metadata": {
    "collapsed": false
   },
   "outputs": [],
   "source": [
    "D2 = {}\n",
    "L2 = []\n",
    "for i in np.unique(np.array(names).flatten()):\n",
    "    L2.append({\"id\":i,\"group\":1})\n",
    "D2['nodes'] = L2\n",
    "D2['links'] = L"
   ]
  },
  {
   "cell_type": "code",
   "execution_count": 10,
   "metadata": {
    "collapsed": false
   },
   "outputs": [
    {
     "name": "stdout",
     "output_type": "stream",
     "text": [
      "1743\n"
     ]
    }
   ],
   "source": [
    "print len(np.unique(np.array(names).flatten()))"
   ]
  },
  {
   "cell_type": "code",
   "execution_count": 11,
   "metadata": {
    "collapsed": false
   },
   "outputs": [],
   "source": [
    "str_json = json.JSONEncoder().encode(D2)\n",
    "F_write = open('twitter.json','w')\n",
    "F_write.write(str_json)\n",
    "F_write.close()"
   ]
  },
  {
   "cell_type": "code",
   "execution_count": 27,
   "metadata": {
    "collapsed": false
   },
   "outputs": [],
   "source": [
    "# df = pd.DataFrame(L)\n",
    "# newdf = df[df['value']>8].groupby(['source','target'])\n",
    "# newdf.count()#.to_dict()"
   ]
  },
  {
   "cell_type": "code",
   "execution_count": 17,
   "metadata": {
    "collapsed": false
   },
   "outputs": [
    {
     "name": "stdout",
     "output_type": "stream",
     "text": [
      "\n",
      "\tOptions\n",
      "\n",
      "            1: trump from lab computer\n",
      "\n",
      "            2: trump from linux mint\n",
      "\n",
      "            3: clinton from lab computer\n",
      "\n",
      "            4: clinton from linux mint\n",
      "\n",
      "\n",
      "Enter number >> 1\n",
      "Loading file...\n",
      "\n",
      "Errors: 0\n",
      "Time: 18.0819821358\n",
      "\n",
      "clean_text\n",
      "Time: 1.0396130085\n",
      "\n",
      "convert time\n",
      "Time: 0.267141103745\n",
      "\n",
      "\tOptions\n",
      "\n",
      "            1: trump from lab computer\n",
      "\n",
      "            2: trump from linux mint\n",
      "\n",
      "            3: clinton from lab computer\n",
      "\n",
      "            4: clinton from linux mint\n",
      "\n",
      "\n",
      "Enter number >> 3\n",
      "Loading file...\n",
      "\n",
      "Errors: 0\n",
      "Time: 14.5035920143\n",
      "\n",
      "clean_text\n",
      "Time: 1.06139087677\n",
      "\n",
      "convert time\n",
      "Time: 0.27539396286\n"
     ]
    }
   ],
   "source": [
    "djt = ut.load_candidate(1500000,1600000)\n",
    "hrc = ut.load_candidate(1500000,1600000)"
   ]
  },
  {
   "cell_type": "code",
   "execution_count": 21,
   "metadata": {
    "collapsed": false
   },
   "outputs": [],
   "source": [
    "djt_df = djt.make_df()\n",
    "hrc_df = hrc.make_df()"
   ]
  },
  {
   "cell_type": "code",
   "execution_count": 22,
   "metadata": {
    "collapsed": false
   },
   "outputs": [
    {
     "data": {
      "text/plain": [
       "0.69686"
      ]
     },
     "execution_count": 22,
     "metadata": {},
     "output_type": "execute_result"
    }
   ],
   "source": [
    "djt_df['RT'].mean()"
   ]
  },
  {
   "cell_type": "code",
   "execution_count": 23,
   "metadata": {
    "collapsed": false
   },
   "outputs": [
    {
     "data": {
      "text/plain": [
       "0.72216"
      ]
     },
     "execution_count": 23,
     "metadata": {},
     "output_type": "execute_result"
    }
   ],
   "source": [
    "hrc_df['RT'].mean()"
   ]
  },
  {
   "cell_type": "code",
   "execution_count": 25,
   "metadata": {
    "collapsed": false
   },
   "outputs": [
    {
     "data": {
      "image/png": "[encoded data removed]",
      "text/plain": [
       "<matplotlib.figure.Figure at 0x7f155dc40c50>"
      ]
     },
     "metadata": {},
     "output_type": "display_data"
    }
   ],
   "source": [
    "djt_df.plot(kind='scatter',x='usr_fol',y='usr_fri',color='r',linewidth=0,alpha=.1,figsize=(8,7))\n",
    "x = np.linspace(-5,1000000,len(djt_df))\n",
    "plt.plot(x,x,color='grey')\n",
    "plt.ylim(-5,1000000)\n",
    "plt.xlim(-5,1000000)\n",
    "plt.show()"
   ]
  },
  {
   "cell_type": "code",
   "execution_count": 27,
   "metadata": {
    "collapsed": false
   },
   "outputs": [
    {
     "data": {
      "image/png": "[encoded data removed]",
      "text/plain": [
       "<matplotlib.figure.Figure at 0x7f155e01c250>"
      ]
     },
     "metadata": {},
     "output_type": "display_data"
    }
   ],
   "source": [
    "djt_df.plot(kind='scatter',x='usr_fol',y='usr_fri',color='r',linewidth=0,alpha=.1,figsize=(8,7))\n",
    "plt.plot(x,x,color='grey')\n",
    "plt.show()"
   ]
  },
  {
   "cell_type": "code",
   "execution_count": null,
   "metadata": {
    "collapsed": true
   },
   "outputs": [],
   "source": []
  }
 ],
 "metadata": {
  "kernelspec": {
   "display_name": "Python 2",
   "language": "python",
   "name": "python2"
  },
  "language_info": {
   "codemirror_mode": {
    "name": "ipython",
    "version": 2
   },
   "file_extension": ".py",
   "mimetype": "text/x-python",
   "name": "python",
   "nbconvert_exporter": "python",
   "pygments_lexer": "ipython2",
   "version": "2.7.11"
  }
 },
 "nbformat": 4,
 "nbformat_minor": 0
}

{
 "cells": [
  {
   "cell_type": "code",
   "execution_count": 86,
   "metadata": {
    "collapsed": true
   },
   "outputs": [],
   "source": [
    "import utils as ut\n",
    "import numpy as np\n",
    "from sklearn.linear_model import LogisticRegressionCV,LogisticRegression"
   ]
  },
  {
   "cell_type": "code",
   "execution_count": 87,
   "metadata": {
    "collapsed": false
   },
   "outputs": [
    {
     "name": "stdout",
     "output_type": "stream",
     "text": [
      "\n",
      "\tOptions\n",
      "\n",
      "            1: trump from lab computer\n",
      "\n",
      "            2: trump from linux mint\n",
      "\n",
      "            3: clinton from lab computer\n",
      "\n",
      "            4: clinton from linux mint\n",
      "\n",
      "\n",
      "Enter number >> 1\n"
     ]
    }
   ],
   "source": [
    "filename = ut.get_file()"
   ]
  },
  {
   "cell_type": "code",
   "execution_count": 88,
   "metadata": {
    "collapsed": false
   },
   "outputs": [
    {
     "name": "stdout",
     "output_type": "stream",
     "text": [
      "Loading file...\n",
      "\n",
      "Errors: 0\n",
      "Time: 0.386312007904\n"
     ]
    }
   ],
   "source": [
    "Trump = ut.TwitterCorpus(filename,n=-2000,m=-25)"
   ]
  },
  {
   "cell_type": "code",
   "execution_count": 89,
   "metadata": {
    "collapsed": false
   },
   "outputs": [
    {
     "name": "stdout",
     "output_type": "stream",
     "text": [
      "Cleaning text...\n",
      "Time: 0.0253999233246\n"
     ]
    }
   ],
   "source": [
    "Trump.clean_text()"
   ]
  },
  {
   "cell_type": "code",
   "execution_count": 90,
   "metadata": {
    "collapsed": false
   },
   "outputs": [
    {
     "name": "stdout",
     "output_type": "stream",
     "text": [
      "Converting time to datetime object...\n",
      "Time: 0.00650691986084\n"
     ]
    }
   ],
   "source": [
    "Trump.convert_time()"
   ]
  },
  {
   "cell_type": "code",
   "execution_count": 91,
   "metadata": {
    "collapsed": true
   },
   "outputs": [],
   "source": [
    "df = Trump.make_df()"
   ]
  },
  {
   "cell_type": "code",
   "execution_count": 92,
   "metadata": {
    "collapsed": false
   },
   "outputs": [
    {
     "data": {
      "text/html": [
       "<div>\n",
       "<table border=\"1\" class=\"dataframe\">\n",
       "  <thead>\n",
       "    <tr style=\"text-align: right;\">\n",
       "      <th></th>\n",
       "      <th>time</th>\n",
       "      <th>usr_fol</th>\n",
       "      <th>usr_n_stat</th>\n",
       "      <th>usr_fri</th>\n",
       "      <th>n_weblinks</th>\n",
       "      <th>n_mentions</th>\n",
       "      <th>n_hashtags</th>\n",
       "      <th>RT</th>\n",
       "    </tr>\n",
       "  </thead>\n",
       "  <tbody>\n",
       "    <tr>\n",
       "      <th>1970</th>\n",
       "      <td>2016-11-09 01:46:30</td>\n",
       "      <td>880.0</td>\n",
       "      <td>40637.0</td>\n",
       "      <td>303.0</td>\n",
       "      <td>1</td>\n",
       "      <td>1</td>\n",
       "      <td>0</td>\n",
       "      <td>1</td>\n",
       "    </tr>\n",
       "    <tr>\n",
       "      <th>1971</th>\n",
       "      <td>2016-11-09 01:46:30</td>\n",
       "      <td>595.0</td>\n",
       "      <td>51146.0</td>\n",
       "      <td>314.0</td>\n",
       "      <td>0</td>\n",
       "      <td>1</td>\n",
       "      <td>1</td>\n",
       "      <td>1</td>\n",
       "    </tr>\n",
       "    <tr>\n",
       "      <th>1972</th>\n",
       "      <td>2016-11-09 01:46:30</td>\n",
       "      <td>1592.0</td>\n",
       "      <td>7742.0</td>\n",
       "      <td>1516.0</td>\n",
       "      <td>1</td>\n",
       "      <td>1</td>\n",
       "      <td>0</td>\n",
       "      <td>1</td>\n",
       "    </tr>\n",
       "    <tr>\n",
       "      <th>1973</th>\n",
       "      <td>2016-11-09 01:46:30</td>\n",
       "      <td>3601.0</td>\n",
       "      <td>34858.0</td>\n",
       "      <td>4209.0</td>\n",
       "      <td>0</td>\n",
       "      <td>1</td>\n",
       "      <td>0</td>\n",
       "      <td>1</td>\n",
       "    </tr>\n",
       "    <tr>\n",
       "      <th>1974</th>\n",
       "      <td>2016-11-09 01:46:30</td>\n",
       "      <td>201.0</td>\n",
       "      <td>31925.0</td>\n",
       "      <td>92.0</td>\n",
       "      <td>1</td>\n",
       "      <td>1</td>\n",
       "      <td>0</td>\n",
       "      <td>1</td>\n",
       "    </tr>\n",
       "  </tbody>\n",
       "</table>\n",
       "</div>"
      ],
      "text/plain": [
       "                    time  usr_fol  usr_n_stat  usr_fri  n_weblinks  \\\n",
       "1970 2016-11-09 01:46:30    880.0     40637.0    303.0           1   \n",
       "1971 2016-11-09 01:46:30    595.0     51146.0    314.0           0   \n",
       "1972 2016-11-09 01:46:30   1592.0      7742.0   1516.0           1   \n",
       "1973 2016-11-09 01:46:30   3601.0     34858.0   4209.0           0   \n",
       "1974 2016-11-09 01:46:30    201.0     31925.0     92.0           1   \n",
       "\n",
       "      n_mentions  n_hashtags  RT  \n",
       "1970           1           0   1  \n",
       "1971           1           1   1  \n",
       "1972           1           0   1  \n",
       "1973           1           0   1  \n",
       "1974           1           0   1  "
      ]
     },
     "execution_count": 92,
     "metadata": {},
     "output_type": "execute_result"
    }
   ],
   "source": [
    "df.tail()"
   ]
  },
  {
   "cell_type": "code",
   "execution_count": 93,
   "metadata": {
    "collapsed": false
   },
   "outputs": [
    {
     "data": {
      "text/html": [
       "<div>\n",
       "<table border=\"1\" class=\"dataframe\">\n",
       "  <thead>\n",
       "    <tr style=\"text-align: right;\">\n",
       "      <th></th>\n",
       "      <th>usr_fol</th>\n",
       "      <th>usr_n_stat</th>\n",
       "      <th>usr_fri</th>\n",
       "      <th>n_weblinks</th>\n",
       "      <th>n_mentions</th>\n",
       "      <th>n_hashtags</th>\n",
       "      <th>RT</th>\n",
       "    </tr>\n",
       "  </thead>\n",
       "  <tbody>\n",
       "    <tr>\n",
       "      <th>count</th>\n",
       "      <td>1.975000e+03</td>\n",
       "      <td>1975.000000</td>\n",
       "      <td>1975.000000</td>\n",
       "      <td>1975.000000</td>\n",
       "      <td>1975.000000</td>\n",
       "      <td>1975.000000</td>\n",
       "      <td>1975.000000</td>\n",
       "    </tr>\n",
       "    <tr>\n",
       "      <th>mean</th>\n",
       "      <td>2.585892e+03</td>\n",
       "      <td>29452.131646</td>\n",
       "      <td>1071.196456</td>\n",
       "      <td>0.444051</td>\n",
       "      <td>0.822785</td>\n",
       "      <td>0.372658</td>\n",
       "      <td>0.699241</td>\n",
       "    </tr>\n",
       "    <tr>\n",
       "      <th>std</th>\n",
       "      <td>3.604627e+04</td>\n",
       "      <td>64302.114988</td>\n",
       "      <td>4718.807639</td>\n",
       "      <td>0.587599</td>\n",
       "      <td>0.576461</td>\n",
       "      <td>0.905830</td>\n",
       "      <td>0.458704</td>\n",
       "    </tr>\n",
       "    <tr>\n",
       "      <th>min</th>\n",
       "      <td>0.000000e+00</td>\n",
       "      <td>1.000000</td>\n",
       "      <td>0.000000</td>\n",
       "      <td>0.000000</td>\n",
       "      <td>0.000000</td>\n",
       "      <td>0.000000</td>\n",
       "      <td>0.000000</td>\n",
       "    </tr>\n",
       "    <tr>\n",
       "      <th>25%</th>\n",
       "      <td>1.540000e+02</td>\n",
       "      <td>2383.500000</td>\n",
       "      <td>175.000000</td>\n",
       "      <td>0.000000</td>\n",
       "      <td>0.500000</td>\n",
       "      <td>0.000000</td>\n",
       "      <td>0.000000</td>\n",
       "    </tr>\n",
       "    <tr>\n",
       "      <th>50%</th>\n",
       "      <td>3.950000e+02</td>\n",
       "      <td>9562.000000</td>\n",
       "      <td>361.000000</td>\n",
       "      <td>0.000000</td>\n",
       "      <td>1.000000</td>\n",
       "      <td>0.000000</td>\n",
       "      <td>1.000000</td>\n",
       "    </tr>\n",
       "    <tr>\n",
       "      <th>75%</th>\n",
       "      <td>9.870000e+02</td>\n",
       "      <td>29928.500000</td>\n",
       "      <td>813.500000</td>\n",
       "      <td>1.000000</td>\n",
       "      <td>1.000000</td>\n",
       "      <td>0.000000</td>\n",
       "      <td>1.000000</td>\n",
       "    </tr>\n",
       "    <tr>\n",
       "      <th>max</th>\n",
       "      <td>1.559200e+06</td>\n",
       "      <td>983047.000000</td>\n",
       "      <td>155408.000000</td>\n",
       "      <td>3.000000</td>\n",
       "      <td>5.000000</td>\n",
       "      <td>10.000000</td>\n",
       "      <td>1.000000</td>\n",
       "    </tr>\n",
       "  </tbody>\n",
       "</table>\n",
       "</div>"
      ],
      "text/plain": [
       "            usr_fol     usr_n_stat        usr_fri   n_weblinks   n_mentions  \\\n",
       "count  1.975000e+03    1975.000000    1975.000000  1975.000000  1975.000000   \n",
       "mean   2.585892e+03   29452.131646    1071.196456     0.444051     0.822785   \n",
       "std    3.604627e+04   64302.114988    4718.807639     0.587599     0.576461   \n",
       "min    0.000000e+00       1.000000       0.000000     0.000000     0.000000   \n",
       "25%    1.540000e+02    2383.500000     175.000000     0.000000     0.500000   \n",
       "50%    3.950000e+02    9562.000000     361.000000     0.000000     1.000000   \n",
       "75%    9.870000e+02   29928.500000     813.500000     1.000000     1.000000   \n",
       "max    1.559200e+06  983047.000000  155408.000000     3.000000     5.000000   \n",
       "\n",
       "        n_hashtags           RT  \n",
       "count  1975.000000  1975.000000  \n",
       "mean      0.372658     0.699241  \n",
       "std       0.905830     0.458704  \n",
       "min       0.000000     0.000000  \n",
       "25%       0.000000     0.000000  \n",
       "50%       0.000000     1.000000  \n",
       "75%       0.000000     1.000000  \n",
       "max      10.000000     1.000000  "
      ]
     },
     "execution_count": 93,
     "metadata": {},
     "output_type": "execute_result"
    }
   ],
   "source": [
    "df.describe()"
   ]
  },
  {
   "cell_type": "code",
   "execution_count": 94,
   "metadata": {
    "collapsed": false
   },
   "outputs": [],
   "source": [
    "model = LogisticRegressionCV()"
   ]
  },
  {
   "cell_type": "code",
   "execution_count": 95,
   "metadata": {
    "collapsed": false
   },
   "outputs": [
    {
     "data": {
      "text/plain": [
       "LogisticRegressionCV(Cs=10, class_weight=None, cv=None, dual=False,\n",
       "           fit_intercept=True, intercept_scaling=1.0, max_iter=100,\n",
       "           multi_class='ovr', n_jobs=1, penalty='l2', random_state=None,\n",
       "           refit=True, scoring=None, solver='lbfgs', tol=0.0001, verbose=0)"
      ]
     },
     "execution_count": 95,
     "metadata": {},
     "output_type": "execute_result"
    }
   ],
   "source": [
    "model.fit(df[df.columns[4:7]],df[df.columns[-1]])"
   ]
  },
  {
   "cell_type": "code",
   "execution_count": 96,
   "metadata": {
    "collapsed": false
   },
   "outputs": [
    {
     "name": "stdout",
     "output_type": "stream",
     "text": [
      "Loading file...\n",
      "\n",
      "Errors: 0\n",
      "Time: 0.38233089447\n"
     ]
    }
   ],
   "source": [
    "Trump_ = ut.TwitterCorpus(filename,n=-25,m=None)"
   ]
  },
  {
   "cell_type": "code",
   "execution_count": 97,
   "metadata": {
    "collapsed": false
   },
   "outputs": [
    {
     "name": "stdout",
     "output_type": "stream",
     "text": [
      "Cleaning text...\n",
      "Time: 0.000432014465332\n",
      "Converting time to datetime object...\n",
      "Time: 9.20295715332e-05\n"
     ]
    }
   ],
   "source": [
    "Trump_.clean_text()\n",
    "Trump_.convert_time()"
   ]
  },
  {
   "cell_type": "code",
   "execution_count": 98,
   "metadata": {
    "collapsed": true
   },
   "outputs": [],
   "source": [
    "df_ = Trump_.make_df()"
   ]
  },
  {
   "cell_type": "code",
   "execution_count": 99,
   "metadata": {
    "collapsed": false
   },
   "outputs": [
    {
     "data": {
      "text/plain": [
       "array([[ 0.14825974,  0.85174026],\n",
       "       [ 0.78592346,  0.21407654],\n",
       "       [ 0.15261215,  0.84738785],\n",
       "       [ 0.78461366,  0.21538634],\n",
       "       [ 0.78592346,  0.21407654],\n",
       "       [ 0.15122663,  0.84877337],\n",
       "       [ 0.14985145,  0.85014855],\n",
       "       [ 0.14985145,  0.85014855],\n",
       "       [ 0.14985145,  0.85014855],\n",
       "       [ 0.14985145,  0.85014855],\n",
       "       [ 0.15122663,  0.84877337],\n",
       "       [ 0.78772723,  0.21227277],\n",
       "       [ 0.14985145,  0.85014855],\n",
       "       [ 0.14985145,  0.85014855],\n",
       "       [ 0.78772723,  0.21227277],\n",
       "       [ 0.14985145,  0.85014855],\n",
       "       [ 0.14985145,  0.85014855],\n",
       "       [ 0.15122663,  0.84877337],\n",
       "       [ 0.14985145,  0.85014855],\n",
       "       [ 0.14985145,  0.85014855],\n",
       "       [ 0.15122663,  0.84877337],\n",
       "       [ 0.14985145,  0.85014855],\n",
       "       [ 0.14886456,  0.85113544],\n",
       "       [ 0.78642545,  0.21357455],\n",
       "       [ 0.14985145,  0.85014855]])"
      ]
     },
     "execution_count": 99,
     "metadata": {},
     "output_type": "execute_result"
    }
   ],
   "source": [
    "model.predict_proba(df_[df_.columns[4:7]])"
   ]
  },
  {
   "cell_type": "code",
   "execution_count": 100,
   "metadata": {
    "collapsed": false
   },
   "outputs": [
    {
     "data": {
      "text/html": [
       "<div>\n",
       "<table border=\"1\" class=\"dataframe\">\n",
       "  <thead>\n",
       "    <tr style=\"text-align: right;\">\n",
       "      <th></th>\n",
       "      <th>time</th>\n",
       "      <th>usr_fol</th>\n",
       "      <th>usr_n_stat</th>\n",
       "      <th>usr_fri</th>\n",
       "      <th>n_weblinks</th>\n",
       "      <th>n_mentions</th>\n",
       "      <th>n_hashtags</th>\n",
       "      <th>RT</th>\n",
       "      <th>predicted</th>\n",
       "    </tr>\n",
       "  </thead>\n",
       "  <tbody>\n",
       "    <tr>\n",
       "      <th>0</th>\n",
       "      <td>2016-11-09 01:46:30</td>\n",
       "      <td>1009.0</td>\n",
       "      <td>70.0</td>\n",
       "      <td>704.0</td>\n",
       "      <td>1</td>\n",
       "      <td>1</td>\n",
       "      <td>3</td>\n",
       "      <td>1</td>\n",
       "      <td>1</td>\n",
       "    </tr>\n",
       "    <tr>\n",
       "      <th>1</th>\n",
       "      <td>2016-11-09 01:46:30</td>\n",
       "      <td>506.0</td>\n",
       "      <td>25862.0</td>\n",
       "      <td>135.0</td>\n",
       "      <td>0</td>\n",
       "      <td>0</td>\n",
       "      <td>0</td>\n",
       "      <td>0</td>\n",
       "      <td>0</td>\n",
       "    </tr>\n",
       "    <tr>\n",
       "      <th>2</th>\n",
       "      <td>2016-11-09 01:46:30</td>\n",
       "      <td>1087.0</td>\n",
       "      <td>1111.0</td>\n",
       "      <td>396.0</td>\n",
       "      <td>2</td>\n",
       "      <td>1</td>\n",
       "      <td>0</td>\n",
       "      <td>1</td>\n",
       "      <td>1</td>\n",
       "    </tr>\n",
       "    <tr>\n",
       "      <th>3</th>\n",
       "      <td>2016-11-09 01:46:30</td>\n",
       "      <td>232.0</td>\n",
       "      <td>51.0</td>\n",
       "      <td>188.0</td>\n",
       "      <td>0</td>\n",
       "      <td>0</td>\n",
       "      <td>1</td>\n",
       "      <td>0</td>\n",
       "      <td>0</td>\n",
       "    </tr>\n",
       "    <tr>\n",
       "      <th>4</th>\n",
       "      <td>2016-11-09 01:46:30</td>\n",
       "      <td>106.0</td>\n",
       "      <td>3257.0</td>\n",
       "      <td>89.0</td>\n",
       "      <td>0</td>\n",
       "      <td>0</td>\n",
       "      <td>0</td>\n",
       "      <td>0</td>\n",
       "      <td>0</td>\n",
       "    </tr>\n",
       "    <tr>\n",
       "      <th>5</th>\n",
       "      <td>2016-11-09 01:46:30</td>\n",
       "      <td>2748.0</td>\n",
       "      <td>43067.0</td>\n",
       "      <td>3175.0</td>\n",
       "      <td>1</td>\n",
       "      <td>1</td>\n",
       "      <td>0</td>\n",
       "      <td>1</td>\n",
       "      <td>1</td>\n",
       "    </tr>\n",
       "    <tr>\n",
       "      <th>6</th>\n",
       "      <td>2016-11-09 01:46:30</td>\n",
       "      <td>1520.0</td>\n",
       "      <td>56622.0</td>\n",
       "      <td>2047.0</td>\n",
       "      <td>0</td>\n",
       "      <td>1</td>\n",
       "      <td>0</td>\n",
       "      <td>0</td>\n",
       "      <td>1</td>\n",
       "    </tr>\n",
       "    <tr>\n",
       "      <th>7</th>\n",
       "      <td>2016-11-09 01:46:30</td>\n",
       "      <td>666.0</td>\n",
       "      <td>13172.0</td>\n",
       "      <td>760.0</td>\n",
       "      <td>0</td>\n",
       "      <td>1</td>\n",
       "      <td>0</td>\n",
       "      <td>1</td>\n",
       "      <td>1</td>\n",
       "    </tr>\n",
       "    <tr>\n",
       "      <th>8</th>\n",
       "      <td>2016-11-09 01:46:30</td>\n",
       "      <td>836.0</td>\n",
       "      <td>30858.0</td>\n",
       "      <td>828.0</td>\n",
       "      <td>0</td>\n",
       "      <td>1</td>\n",
       "      <td>0</td>\n",
       "      <td>1</td>\n",
       "      <td>1</td>\n",
       "    </tr>\n",
       "    <tr>\n",
       "      <th>9</th>\n",
       "      <td>2016-11-09 01:46:30</td>\n",
       "      <td>838.0</td>\n",
       "      <td>35646.0</td>\n",
       "      <td>433.0</td>\n",
       "      <td>0</td>\n",
       "      <td>1</td>\n",
       "      <td>0</td>\n",
       "      <td>1</td>\n",
       "      <td>1</td>\n",
       "    </tr>\n",
       "    <tr>\n",
       "      <th>10</th>\n",
       "      <td>2016-11-09 01:46:30</td>\n",
       "      <td>2851.0</td>\n",
       "      <td>299395.0</td>\n",
       "      <td>1190.0</td>\n",
       "      <td>1</td>\n",
       "      <td>1</td>\n",
       "      <td>0</td>\n",
       "      <td>1</td>\n",
       "      <td>1</td>\n",
       "    </tr>\n",
       "    <tr>\n",
       "      <th>11</th>\n",
       "      <td>2016-11-09 01:46:30</td>\n",
       "      <td>323.0</td>\n",
       "      <td>1646.0</td>\n",
       "      <td>510.0</td>\n",
       "      <td>1</td>\n",
       "      <td>0</td>\n",
       "      <td>0</td>\n",
       "      <td>0</td>\n",
       "      <td>0</td>\n",
       "    </tr>\n",
       "    <tr>\n",
       "      <th>12</th>\n",
       "      <td>2016-11-09 01:46:30</td>\n",
       "      <td>1206.0</td>\n",
       "      <td>56104.0</td>\n",
       "      <td>521.0</td>\n",
       "      <td>0</td>\n",
       "      <td>1</td>\n",
       "      <td>0</td>\n",
       "      <td>1</td>\n",
       "      <td>1</td>\n",
       "    </tr>\n",
       "    <tr>\n",
       "      <th>13</th>\n",
       "      <td>2016-11-09 01:46:30</td>\n",
       "      <td>85.0</td>\n",
       "      <td>14155.0</td>\n",
       "      <td>91.0</td>\n",
       "      <td>0</td>\n",
       "      <td>1</td>\n",
       "      <td>0</td>\n",
       "      <td>1</td>\n",
       "      <td>1</td>\n",
       "    </tr>\n",
       "    <tr>\n",
       "      <th>14</th>\n",
       "      <td>2016-11-09 01:46:30</td>\n",
       "      <td>5139.0</td>\n",
       "      <td>18214.0</td>\n",
       "      <td>479.0</td>\n",
       "      <td>1</td>\n",
       "      <td>0</td>\n",
       "      <td>0</td>\n",
       "      <td>0</td>\n",
       "      <td>0</td>\n",
       "    </tr>\n",
       "    <tr>\n",
       "      <th>15</th>\n",
       "      <td>2016-11-09 01:46:30</td>\n",
       "      <td>185.0</td>\n",
       "      <td>7873.0</td>\n",
       "      <td>251.0</td>\n",
       "      <td>0</td>\n",
       "      <td>1</td>\n",
       "      <td>0</td>\n",
       "      <td>1</td>\n",
       "      <td>1</td>\n",
       "    </tr>\n",
       "    <tr>\n",
       "      <th>16</th>\n",
       "      <td>2016-11-09 01:46:30</td>\n",
       "      <td>547.0</td>\n",
       "      <td>24022.0</td>\n",
       "      <td>2007.0</td>\n",
       "      <td>0</td>\n",
       "      <td>1</td>\n",
       "      <td>0</td>\n",
       "      <td>1</td>\n",
       "      <td>1</td>\n",
       "    </tr>\n",
       "    <tr>\n",
       "      <th>17</th>\n",
       "      <td>2016-11-09 01:46:30</td>\n",
       "      <td>250.0</td>\n",
       "      <td>2321.0</td>\n",
       "      <td>243.0</td>\n",
       "      <td>1</td>\n",
       "      <td>1</td>\n",
       "      <td>0</td>\n",
       "      <td>1</td>\n",
       "      <td>1</td>\n",
       "    </tr>\n",
       "    <tr>\n",
       "      <th>18</th>\n",
       "      <td>2016-11-09 01:46:30</td>\n",
       "      <td>1477.0</td>\n",
       "      <td>35115.0</td>\n",
       "      <td>2228.0</td>\n",
       "      <td>0</td>\n",
       "      <td>1</td>\n",
       "      <td>0</td>\n",
       "      <td>1</td>\n",
       "      <td>1</td>\n",
       "    </tr>\n",
       "    <tr>\n",
       "      <th>19</th>\n",
       "      <td>2016-11-09 01:46:30</td>\n",
       "      <td>351.0</td>\n",
       "      <td>2158.0</td>\n",
       "      <td>851.0</td>\n",
       "      <td>0</td>\n",
       "      <td>1</td>\n",
       "      <td>0</td>\n",
       "      <td>1</td>\n",
       "      <td>1</td>\n",
       "    </tr>\n",
       "    <tr>\n",
       "      <th>20</th>\n",
       "      <td>2016-11-09 01:46:30</td>\n",
       "      <td>450.0</td>\n",
       "      <td>34016.0</td>\n",
       "      <td>375.0</td>\n",
       "      <td>1</td>\n",
       "      <td>1</td>\n",
       "      <td>0</td>\n",
       "      <td>1</td>\n",
       "      <td>1</td>\n",
       "    </tr>\n",
       "    <tr>\n",
       "      <th>21</th>\n",
       "      <td>2016-11-09 01:46:30</td>\n",
       "      <td>3707.0</td>\n",
       "      <td>1030.0</td>\n",
       "      <td>265.0</td>\n",
       "      <td>0</td>\n",
       "      <td>1</td>\n",
       "      <td>0</td>\n",
       "      <td>1</td>\n",
       "      <td>1</td>\n",
       "    </tr>\n",
       "    <tr>\n",
       "      <th>22</th>\n",
       "      <td>2016-11-09 01:46:30</td>\n",
       "      <td>187.0</td>\n",
       "      <td>3072.0</td>\n",
       "      <td>328.0</td>\n",
       "      <td>0</td>\n",
       "      <td>1</td>\n",
       "      <td>1</td>\n",
       "      <td>1</td>\n",
       "      <td>1</td>\n",
       "    </tr>\n",
       "    <tr>\n",
       "      <th>23</th>\n",
       "      <td>2016-11-09 01:46:30</td>\n",
       "      <td>71.0</td>\n",
       "      <td>7743.0</td>\n",
       "      <td>6.0</td>\n",
       "      <td>1</td>\n",
       "      <td>0</td>\n",
       "      <td>1</td>\n",
       "      <td>0</td>\n",
       "      <td>0</td>\n",
       "    </tr>\n",
       "    <tr>\n",
       "      <th>24</th>\n",
       "      <td>2016-11-09 01:46:31</td>\n",
       "      <td>537.0</td>\n",
       "      <td>5730.0</td>\n",
       "      <td>752.0</td>\n",
       "      <td>0</td>\n",
       "      <td>1</td>\n",
       "      <td>0</td>\n",
       "      <td>1</td>\n",
       "      <td>1</td>\n",
       "    </tr>\n",
       "  </tbody>\n",
       "</table>\n",
       "</div>"
      ],
      "text/plain": [
       "                  time  usr_fol  usr_n_stat  usr_fri  n_weblinks  n_mentions  \\\n",
       "0  2016-11-09 01:46:30   1009.0        70.0    704.0           1           1   \n",
       "1  2016-11-09 01:46:30    506.0     25862.0    135.0           0           0   \n",
       "2  2016-11-09 01:46:30   1087.0      1111.0    396.0           2           1   \n",
       "3  2016-11-09 01:46:30    232.0        51.0    188.0           0           0   \n",
       "4  2016-11-09 01:46:30    106.0      3257.0     89.0           0           0   \n",
       "5  2016-11-09 01:46:30   2748.0     43067.0   3175.0           1           1   \n",
       "6  2016-11-09 01:46:30   1520.0     56622.0   2047.0           0           1   \n",
       "7  2016-11-09 01:46:30    666.0     13172.0    760.0           0           1   \n",
       "8  2016-11-09 01:46:30    836.0     30858.0    828.0           0           1   \n",
       "9  2016-11-09 01:46:30    838.0     35646.0    433.0           0           1   \n",
       "10 2016-11-09 01:46:30   2851.0    299395.0   1190.0           1           1   \n",
       "11 2016-11-09 01:46:30    323.0      1646.0    510.0           1           0   \n",
       "12 2016-11-09 01:46:30   1206.0     56104.0    521.0           0           1   \n",
       "13 2016-11-09 01:46:30     85.0     14155.0     91.0           0           1   \n",
       "14 2016-11-09 01:46:30   5139.0     18214.0    479.0           1           0   \n",
       "15 2016-11-09 01:46:30    185.0      7873.0    251.0           0           1   \n",
       "16 2016-11-09 01:46:30    547.0     24022.0   2007.0           0           1   \n",
       "17 2016-11-09 01:46:30    250.0      2321.0    243.0           1           1   \n",
       "18 2016-11-09 01:46:30   1477.0     35115.0   2228.0           0           1   \n",
       "19 2016-11-09 01:46:30    351.0      2158.0    851.0           0           1   \n",
       "20 2016-11-09 01:46:30    450.0     34016.0    375.0           1           1   \n",
       "21 2016-11-09 01:46:30   3707.0      1030.0    265.0           0           1   \n",
       "22 2016-11-09 01:46:30    187.0      3072.0    328.0           0           1   \n",
       "23 2016-11-09 01:46:30     71.0      7743.0      6.0           1           0   \n",
       "24 2016-11-09 01:46:31    537.0      5730.0    752.0           0           1   \n",
       "\n",
       "    n_hashtags  RT  predicted  \n",
       "0            3   1          1  \n",
       "1            0   0          0  \n",
       "2            0   1          1  \n",
       "3            1   0          0  \n",
       "4            0   0          0  \n",
       "5            0   1          1  \n",
       "6            0   0          1  \n",
       "7            0   1          1  \n",
       "8            0   1          1  \n",
       "9            0   1          1  \n",
       "10           0   1          1  \n",
       "11           0   0          0  \n",
       "12           0   1          1  \n",
       "13           0   1          1  \n",
       "14           0   0          0  \n",
       "15           0   1          1  \n",
       "16           0   1          1  \n",
       "17           0   1          1  \n",
       "18           0   1          1  \n",
       "19           0   1          1  \n",
       "20           0   1          1  \n",
       "21           0   1          1  \n",
       "22           1   1          1  \n",
       "23           1   0          0  \n",
       "24           0   1          1  "
      ]
     },
     "execution_count": 100,
     "metadata": {},
     "output_type": "execute_result"
    }
   ],
   "source": [
    "df_['predicted'] = model.predict(df_[df_.columns[4:7]])\n",
    "df_.head(25)"
   ]
  },
  {
   "cell_type": "code",
   "execution_count": 104,
   "metadata": {
    "collapsed": false
   },
   "outputs": [
    {
     "data": {
      "text/plain": [
       "1"
      ]
     },
     "execution_count": 104,
     "metadata": {},
     "output_type": "execute_result"
    }
   ],
   "source": [
    "sum(df_['RT']!=df_['predicted'])"
   ]
  },
  {
   "cell_type": "markdown",
   "metadata": {},
   "source": [
    "Mentions are highly correlated with retweets. This makes sense because a retweet pretty much always mentions the person who originally sent the tweet."
   ]
  },
  {
   "cell_type": "code",
   "execution_count": 105,
   "metadata": {
    "collapsed": false
   },
   "outputs": [
    {
     "data": {
      "text/plain": [
       "1782"
      ]
     },
     "execution_count": 105,
     "metadata": {},
     "output_type": "execute_result"
    }
   ],
   "source": [
    "sum(df['RT']==df['n_mentions'])"
   ]
  },
  {
   "cell_type": "code",
   "execution_count": 106,
   "metadata": {
    "collapsed": false
   },
   "outputs": [
    {
     "data": {
      "text/plain": [
       "1975"
      ]
     },
     "execution_count": 106,
     "metadata": {},
     "output_type": "execute_result"
    }
   ],
   "source": [
    "len(df)"
   ]
  },
  {
   "cell_type": "code",
   "execution_count": null,
   "metadata": {
    "collapsed": true
   },
   "outputs": [],
   "source": []
  }
 ],
 "metadata": {
  "kernelspec": {
   "display_name": "Python 2",
   "language": "python",
   "name": "python2"
  },
  "language_info": {
   "codemirror_mode": {
    "name": "ipython",
    "version": 2
   },
   "file_extension": ".py",
   "mimetype": "text/x-python",
   "name": "python",
   "nbconvert_exporter": "python",
   "pygments_lexer": "ipython2",
   "version": "2.7.11"
  }
 },
 "nbformat": 4,
 "nbformat_minor": 0
}

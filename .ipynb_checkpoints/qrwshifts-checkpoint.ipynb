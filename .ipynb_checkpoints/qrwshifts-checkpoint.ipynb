{
 "cells": [
  {
   "cell_type": "code",
   "execution_count": 19,
   "metadata": {
    "collapsed": true
   },
   "outputs": [],
   "source": [
    "import numpy as np\n",
    "import scipy.linalg as la\n",
    "import matplotlib.pyplot as plt\n",
    "%matplotlib inline"
   ]
  },
  {
   "cell_type": "markdown",
   "metadata": {},
   "source": [
    "# 28.2\n",
    "Feel free to experiment."
   ]
  },
  {
   "cell_type": "markdown",
   "metadata": {},
   "source": [
    "Part A.\n",
    "Notice the form that the matrices take."
   ]
  },
  {
   "cell_type": "code",
   "execution_count": 16,
   "metadata": {
    "collapsed": false
   },
   "outputs": [
    {
     "data": {
      "image/png": "[encoded data removed]",
      "text/plain": [
       "<matplotlib.figure.Figure at 0x7fd66cf7c1d0>"
      ]
     },
     "metadata": {},
     "output_type": "display_data"
    },
    {
     "data": {
      "image/png": "[encoded data removed]",
      "text/plain": [
       "<matplotlib.figure.Figure at 0x7fd66d116710>"
      ]
     },
     "metadata": {},
     "output_type": "display_data"
    }
   ],
   "source": [
    "def constructA(n):\n",
    "    A = np.diag(-np.ones(n))\n",
    "    A += np.diag(np.ones(n-1),k=1)\n",
    "    A += np.diag(np.ones(n-1),k=-1)\n",
    "    return A\n",
    "\n",
    "A = constructA(10)\n",
    "Q,R = np.linalg.qr(A)\n",
    "plt.imshow(Q)\n",
    "plt.title(\"The matrix Q\")\n",
    "plt.colorbar()\n",
    "plt.show()\n",
    "plt.imshow(R)\n",
    "plt.colorbar()\n",
    "plt.title(\"The matrix R\")\n",
    "plt.show()"
   ]
  },
  {
   "cell_type": "markdown",
   "metadata": {},
   "source": [
    "Part B.\n",
    "Reconstructing the tridiagonal form."
   ]
  },
  {
   "cell_type": "code",
   "execution_count": 17,
   "metadata": {
    "collapsed": false
   },
   "outputs": [
    {
     "data": {
      "image/png": "[encoded data removed]",
      "text/plain": [
       "<matplotlib.figure.Figure at 0x7fd66cfde438>"
      ]
     },
     "metadata": {},
     "output_type": "display_data"
    }
   ],
   "source": [
    "plt.imshow(R.dot(Q))\n",
    "plt.title(\"RQ\")\n",
    "plt.colorbar()\n",
    "plt.show()"
   ]
  },
  {
   "cell_type": "markdown",
   "metadata": {},
   "source": [
    "# 29.1"
   ]
  },
  {
   "cell_type": "code",
   "execution_count": 161,
   "metadata": {
    "collapsed": true
   },
   "outputs": [],
   "source": [
    "def tridiag(A):\n",
    "    \"\"\"\n",
    "    Householder reduction to Hessenberg form.\n",
    "    INPUT\n",
    "        A (ndarray) real, symmetric mxm matrix\n",
    "    RETURNS\n",
    "        A in tridiagonalized form\n",
    "        \n",
    "    \"\"\"\n",
    "    m = A.shape[0]\n",
    "    for k in range(m-2):\n",
    "        x = A[k+1:m,k].copy()\n",
    "        v = np.sign(x[0])*np.linalg.norm(x)*np.identity(m-(k+1))[0] + x\n",
    "        v /= np.linalg.norm(v)\n",
    "        A[k+1:m,k:m] -= 2*np.outer(v,v).dot(A[k+1:m,k:m])\n",
    "        A[:m,k+1:m] -= 2*A[:m,k+1:m].dot(np.outer(v,v))\n",
    "        T = np.diag(np.diag(A)) + np.diag(np.diag(A,k=1),k=1) + np.diag(np.diag(A,k=1),k=-1)\n",
    "    return A\n",
    "\n",
    "def qralg(T):\n",
    "    Q,R = np.linalg.qr(T)\n",
    "\n",
    "def prog():\n",
    "    pass"
   ]
  },
  {
   "cell_type": "code",
   "execution_count": 162,
   "metadata": {
    "collapsed": false
   },
   "outputs": [
    {
     "data": {
      "text/plain": [
       "array([[ 1.        ,  0.5       ,  0.33333333,  0.25      ],\n",
       "       [ 0.5       ,  0.33333333,  0.25      ,  0.2       ],\n",
       "       [ 0.33333333,  0.25      ,  0.2       ,  0.16666667],\n",
       "       [ 0.25      ,  0.2       ,  0.16666667,  0.14285714]])"
      ]
     },
     "execution_count": 162,
     "metadata": {},
     "output_type": "execute_result"
    }
   ],
   "source": [
    "# unit tests\n",
    "H = la.hilbert(4)\n",
    "H"
   ]
  },
  {
   "cell_type": "code",
   "execution_count": 163,
   "metadata": {
    "collapsed": false
   },
   "outputs": [
    {
     "data": {
      "image/png": "[encoded data removed]",
      "text/plain": [
       "<matplotlib.figure.Figure at 0x7fd66cdff198>"
      ]
     },
     "metadata": {},
     "output_type": "display_data"
    }
   ],
   "source": [
    "#sign error somewhere\n",
    "plt.imshow(tridiag(H))\n",
    "plt.show()"
   ]
  },
  {
   "cell_type": "code",
   "execution_count": 164,
   "metadata": {
    "collapsed": false
   },
   "outputs": [
    {
     "data": {
      "image/png": "[encoded data removed]",
      "text/plain": [
       "<matplotlib.figure.Figure at 0x7fd66cf797f0>"
      ]
     },
     "metadata": {},
     "output_type": "display_data"
    }
   ],
   "source": [
    "plt.imshow(la.hessenberg(H))\n",
    "plt.show()"
   ]
  },
  {
   "cell_type": "code",
   "execution_count": null,
   "metadata": {
    "collapsed": true
   },
   "outputs": [],
   "source": []
  }
 ],
 "metadata": {
  "kernelspec": {
   "display_name": "Python 3",
   "language": "python",
   "name": "python3"
  },
  "language_info": {
   "codemirror_mode": {
    "name": "ipython",
    "version": 3
   },
   "file_extension": ".py",
   "mimetype": "text/x-python",
   "name": "python",
   "nbconvert_exporter": "python",
   "pygments_lexer": "ipython3",
   "version": "3.6.0"
  }
 },
 "nbformat": 4,
 "nbformat_minor": 2
}
